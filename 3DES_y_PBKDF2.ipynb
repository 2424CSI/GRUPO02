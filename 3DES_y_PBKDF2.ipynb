{
  "nbformat": 4,
  "nbformat_minor": 0,
  "metadata": {
    "colab": {
      "provenance": []
    },
    "kernelspec": {
      "name": "python3",
      "display_name": "Python 3"
    },
    "language_info": {
      "name": "python"
    }
  },
  "cells": [
    {
      "cell_type": "code",
      "source": [
        "!pip install pycryptodome\n",
        "#!pip install pycrypto"
      ],
      "metadata": {
        "colab": {
          "base_uri": "https://localhost:8080/"
        },
        "id": "HyWzxgZHAD4x",
        "outputId": "9e1e7a7b-11a1-456d-a3b7-62c7c9c506ca"
      },
      "execution_count": 3,
      "outputs": [
        {
          "output_type": "stream",
          "name": "stdout",
          "text": [
            "Collecting pycryptodome\n",
            "  Downloading pycryptodome-3.20.0-cp35-abi3-manylinux_2_17_x86_64.manylinux2014_x86_64.whl (2.1 MB)\n",
            "\u001b[?25l     \u001b[90m━━━━━━━━━━━━━━━━━━━━━━━━━━━━━━━━━━━━━━━━\u001b[0m \u001b[32m0.0/2.1 MB\u001b[0m \u001b[31m?\u001b[0m eta \u001b[36m-:--:--\u001b[0m\r\u001b[2K     \u001b[91m━━━━\u001b[0m\u001b[90m╺\u001b[0m\u001b[90m━━━━━━━━━━━━━━━━━━━━━━━━━━━━━━━━━━━\u001b[0m \u001b[32m0.2/2.1 MB\u001b[0m \u001b[31m6.9 MB/s\u001b[0m eta \u001b[36m0:00:01\u001b[0m\r\u001b[2K     \u001b[91m━━━━━━━━━━━━━\u001b[0m\u001b[91m╸\u001b[0m\u001b[90m━━━━━━━━━━━━━━━━━━━━━━━━━━\u001b[0m \u001b[32m0.7/2.1 MB\u001b[0m \u001b[31m10.4 MB/s\u001b[0m eta \u001b[36m0:00:01\u001b[0m\r\u001b[2K     \u001b[91m━━━━━━━━━━━━━━━━━━━━━━━━━\u001b[0m\u001b[90m╺\u001b[0m\u001b[90m━━━━━━━━━━━━━━\u001b[0m \u001b[32m1.3/2.1 MB\u001b[0m \u001b[31m12.7 MB/s\u001b[0m eta \u001b[36m0:00:01\u001b[0m\r\u001b[2K     \u001b[91m━━━━━━━━━━━━━━━━━━━━━━━━━━━━━━━━━━━━━━━\u001b[0m\u001b[90m╺\u001b[0m \u001b[32m2.1/2.1 MB\u001b[0m \u001b[31m14.8 MB/s\u001b[0m eta \u001b[36m0:00:01\u001b[0m\r\u001b[2K     \u001b[90m━━━━━━━━━━━━━━━━━━━━━━━━━━━━━━━━━━━━━━━━\u001b[0m \u001b[32m2.1/2.1 MB\u001b[0m \u001b[31m12.4 MB/s\u001b[0m eta \u001b[36m0:00:00\u001b[0m\n",
            "\u001b[?25hInstalling collected packages: pycryptodome\n",
            "Successfully installed pycryptodome-3.20.0\n"
          ]
        }
      ]
    },
    {
      "cell_type": "code",
      "source": [
        "from Crypto.Cipher import DES3 # Importa el módulo DES3 de la biblioteca pycryptodome.\n",
        "from Crypto import Random # Importa el módulo Random que permita dar numeros randomicos seguros\n",
        "import time\n",
        "import base64\n",
        "\n",
        "from google.colab import drive\n",
        "drive.mount('/content/drive/')\n",
        "\n",
        "\n",
        "def ejecutar_3DES(direccion):\n",
        "  inicio = time.time()\n",
        "  #palabras= open('/content/drive/MyDrive/Colab Notebooks/Cripto/txt/10000000palabras.txt')\n",
        "  #plaintext = palabras.read()\n",
        "  with open(direccion, 'r') as archivo:\n",
        "        plaintext = archivo.read()\n",
        "  fin = time.time()\n",
        "\n",
        "  print(f\"Tiempo de ejecución (lectura): {fin-inicio}\");\n",
        "\n",
        "  # Elimina los espacios del texto\n",
        "  plaintext_sin_espacios = plaintext.replace(\" \", \"\")\n",
        "\n",
        "  # Cuenta el número de caracteres sin espacios\n",
        "  numero_de_caracteres = len(plaintext_sin_espacios)\n",
        "\n",
        "  print(f\"Número de caracteres sin contar espacios: {numero_de_caracteres}\")\n",
        "\n",
        "  inicio = time.time()\n",
        "  key = 'Sixteen_byte_key' # Define una clave de 16 bytes. DES3 requiere una clave de 16 o 24 bytes.\n",
        "  print('Clave: '+key)\n",
        "  fin = time.time()\n",
        "  print(f\"Tiempo de ejecución (generacion key): {fin-inicio}\");\n",
        "  # Genera un vector de inicialización (IV) aleatorio del tamaño de bloque de DES3 (8 bytes).\n",
        "  # El IV se usa para asegurar que cifrados idénticos de textos planos idénticos produzcan resultados diferentes.\n",
        "  inicio = time.time()\n",
        "  iv = Random.new().read(DES3.block_size)\n",
        "\n",
        "  # Crea un nuevo objeto cifrador DES3 en modo OFB (Output Feedback Mode) con la clave y el IV especificados.\n",
        "  cipher_encrypt = DES3.new(key, DES3.MODE_OFB, iv)\n",
        "\n",
        "  # Define el texto plano a cifrar. Se añaden espacios al final para que su longitud sea múltiplo de 8.\n",
        "\n",
        "\n",
        "  # Cifra el texto plano con el objeto cifrador DES3 y lo guarda en encrypted_text.\n",
        "  encrypted_text = cipher_encrypt.encrypt(plaintext.encode())\n",
        "  print(f'Texto encriptado {len(encrypted_text)}:  ')\n",
        "  print(encrypted_text[:1000])\n",
        "  fin = time.time()\n",
        "  print(f\"Tiempo de ejecución (cifrado e impresion): {fin-inicio}\");\n",
        "\n",
        "\n",
        "  encrypted_sin_espacios = encrypted_text.replace(b\" \", b\"\")\n",
        "  numero_de_caracteres_encrypted = len(encrypted_sin_espacios)\n",
        "  print(f\"Número de caracteres encriptados: {numero_de_caracteres_encrypted}\")\n",
        "\n",
        "  # Crea un nuevo objeto descifrador DES3 en modo OFB con la misma clave y el mismo IV.\n",
        "  # No se puede reutilizar un objeto cifrador o descifrador para cifrar o descifrar otros datos con la misma clave.\n",
        "  inicio = time.time()\n",
        "  cipher_decrypt = DES3.new(key, DES3.MODE_OFB, iv)\n",
        "\n",
        "  # Descifra el texto cifrado con el objeto descifrador DES3.\n",
        "  # Solo se puede descifrar una vez; intentar descifrarlo de nuevo dará un resultado incorrecto.\n",
        "  original_text=cipher_decrypt.decrypt(encrypted_text)\n",
        "  print(f'Texto desencriptado {len(original_text)}: ')\n",
        "  print(original_text[:1000])\n",
        "  fin = time.time()\n",
        "  print(f\"Tiempo de ejecución (descifrado e impresion): {fin-inicio}\");\n",
        "\n",
        "  #palabras.close()\n"
      ],
      "metadata": {
        "colab": {
          "base_uri": "https://localhost:8080/"
        },
        "id": "9Km3JRTi07RR",
        "outputId": "e7a9a6ea-591e-4d51-8461-2defeb297774"
      },
      "execution_count": 19,
      "outputs": [
        {
          "output_type": "stream",
          "name": "stdout",
          "text": [
            "Drive already mounted at /content/drive/; to attempt to forcibly remount, call drive.mount(\"/content/drive/\", force_remount=True).\n"
          ]
        }
      ]
    },
    {
      "cell_type": "code",
      "source": [
        "print(\"*******************10palabras*******************\");\n",
        "ejecutar_3DES('/content/drive/MyDrive/Colab Notebooks/Cripto/txt/10palabras.txt')\n",
        "print(\"*******************100palabras*******************\");\n",
        "ejecutar_3DES('/content/drive/MyDrive/Colab Notebooks/Cripto/txt/100palabras.txt')\n",
        "print(\"*******************1000palabras*******************\");\n",
        "ejecutar_3DES('/content/drive/MyDrive/Colab Notebooks/Cripto/txt/1000palabras.txt')\n",
        "print(\"*******************10000palabras*******************\");\n",
        "ejecutar_3DES('/content/drive/MyDrive/Colab Notebooks/Cripto/txt/10000palabras.txt')\n",
        "print(\"*******************100000palabras*******************\");\n",
        "ejecutar_3DES('/content/drive/MyDrive/Colab Notebooks/Cripto/txt/100000palabras.txt')\n",
        "print(\"*******************1000000palabras*******************\");\n",
        "ejecutar_3DES('/content/drive/MyDrive/Colab Notebooks/Cripto/txt/1000000palabras.txt')\n",
        "print(\"*******************10000000palabras*******************\");\n",
        "ejecutar_3DES('/content/drive/MyDrive/Colab Notebooks/Cripto/txt/10000000palabras.txt')"
      ],
      "metadata": {
        "colab": {
          "base_uri": "https://localhost:8080/"
        },
        "id": "jPA-MX6ufjrx",
        "outputId": "1c72b546-235c-44ec-fbd2-94bb71febc7a"
      },
      "execution_count": 21,
      "outputs": [
        {
          "output_type": "stream",
          "name": "stdout",
          "text": [
            "*******************10palabras*******************\n",
            "Tiempo de ejecución (lectura): 0.0037386417388916016\n",
            "Número de caracteres sin contar espacios: 52\n",
            "Clave: Sixteen_byte_key\n",
            "Tiempo de ejecución (generacion key): 0.0004601478576660156\n",
            "Texto encriptado 64:  \n",
            "b'\\xef\\x91,A\\xc7:S?3h\\xcb\\xe0\\xcf\\xe7\\x96\\x98X\\xc6\\xbd\"Q`\\x9c><\\x9b\\xa7\\xf4\\xf1@\\\\G$`gJ\\xba\\xe9\\xbb\\x89\\xb4\\xd5\\xd9\\x9e\\xfd\\x97\\x91\\xfa>{\\xde\\xf4\\xff\\tk<3\\x18\\xb8B\\xb6\\x9e2S'\n",
            "Tiempo de ejecución (cifrado e impresion): 0.0003676414489746094\n",
            "Número de caracteres encriptados: 64\n",
            "Texto desencriptado {len(original_text)}: \n",
            "b'La Naturaleza tornaba a se\\xc3\\xb1orearse del Bosque, y huy\\xc3\\xb3 volando '\n",
            "Tiempo de ejecución (descifrado e impresion): 0.00020599365234375\n",
            "*******************100palabras*******************\n",
            "Tiempo de ejecución (lectura): 0.009200811386108398\n",
            "Número de caracteres sin contar espacios: 509\n",
            "Clave: Sixteen_byte_key\n",
            "Tiempo de ejecución (generacion key): 1.6927719116210938e-05\n",
            "Texto encriptado 626:  \n",
            "b'\\xbf\\xc1\\xbd\\xa4\\x18tt)\\xd4\\xc5ml\\xa5\\xfa\\xca\\xdf:>\\xc3\\xc7\\xde\\xf7\\x04O\\x0f\\xc5\"L9\\xd5\\x9f\\xbc{\\xd9\\xdc\\xbeT:\\xbc\\xb5w\\\\\\x18\\x02\\x91.f-@$\\xb7\\x14\\xc9MIXB\\x91Ip\\xef\\xba\\x12u&\\xe0!\\x90\\t\\xa7k\\xdd\\xfa\\x8dc\\x9cY\\xba\\x18(_t4_d\\xfek \\nX\\xa4cQ\\xa9\\xdcK\\xa3\\x0fb\\xabq\\x15k\\x12\\x93a\\xab\\xaac\\xc6\\xc9s\\xa3\\xb1\\x7fe\\xe2\\x8c\\xfd\\xac\\xbc]\\xbf\"\\xc4h\\x98;\\x10\\xd8w\\x8b\\x93~f\\x92x\\x93T\\xabq\\xe3\\x1e\\x80t}I_\\xea\\x06\\x9b\\x88\\x01\\x9ah\\xf8\\x98\\x85\\x86^SaJ\\x19d\\x80\\x88\\xe2\\xda\\x946\\x11%\\xa7\\x13\\xa2v\\xf0Z\\x93\\xa0\\x81\\x10\\tn$\\xcdiN\\x87\\xf3\\xfe;\\xf37\\x1d\\xe1=\\x91\\x7f_\\xa7\\xbeR\\xc3`Q\\xae\\x9bY\\x01\\xd4\\xac\\xfeN\\xe6\\xfa\\xbf0q#\\xca7\\xd51\\xed\\xf6\\x80\\x841\\xd2\\x1b\\t\\xa1!\\xfa\\xfde\\xfb\\xe1_\\xee%A\\xfa\\x1bZB\\xf9\\x9d\\xd5\\x1e\\xe8\\x01\\x9c&Qa\\x12\\xf9\\xb9\\xff\\x94\\x13=\\x8c\\x88o;\\xb4\\xcc\\x90\\x1dC\\xbdt\\xe4\\xf8W[\\x8d\\x839\\xca7L\\x12$\\'\\x0c\\xff\\xd9n\\xd3%\\x8d\\xbf\\xbf\\x11\\x0bk\\xcf}\\xca\\x86NuJ\\x17\\xc8<j\\xc5\\xa2\\xfae\\xc0\\x00\\xd2\\xc5,\\x82S\\x0cN4pd\\x89\\xdc\\x08Z/\\xfdY\\x06\\xee\\xc0\\xdd\\xa0&\\xe3\\\\L\\xac\\xe0\\x04\\xe9\\'q{\\xde\\xaeO\\xe9\\xdbB6L\\xe1\\xf2\\x99E\\xb9\\xa6\\x8b\\x8bqm\\x00\\xecI\\x84L\\xafh\\t\\xf5\\xc0l\\xa7q2\\x95\\x1c\\x1b\\x95\\xf0/QdM\\x03RV\\xf1t\\xd2\\xb0\\xf8#bq\\xd7\\xeb\\x06\\xc7\\xd8\\xf6\\xd7}t\\xa4\\xb2;\\xdd\\x83s\\x88?rH\\xb9[\\x1e~\\x19\\x9a\\x82\\x8eD\\x15\\xe66\\xad:V\\xdcj1\\x97\\x14\\xaa\\xef\\x18\\x83Y0\\xbd1v`R\\xe2\\xf3kh\\x07y#\\xa4_@h\\x85\\x19t\\xe1\\xeb\\xbb\\xcbr\\x91R=.\\x0c\\xef\\xfd#R\\nv\\x198\\xa0x=EOt\\xbel\\x97y*\\x07\\xe2+)\\xa9vnCdm[&\\xe7\\x02\\xe4\\xbf~S\\xc6\\x8d\\xea\\xb1\\xd7z\\xd1@\\x14\\x90\\x9a\\x8c\\xab\\x13*\\x9f\\xb7(\\xa1\\xb2Z\\xe2{\\xff\\xf69\\x08M\\x9aT]\\x983\\xc7\\x1a\\x9c\\xf1\\xa4(\\x83\\xda\\xd7p\\xe6\\xcdl\\xe0\\xf2\\x86a\\xdc\\xe8U\\x96\\x08\\n\\x1a\\x18\\xa8\\xd3\\x7f%\\xa2\\xf4a\\xfb*!\\xe5\\xc5\\xafi\\x07\\xab=\\xd2tf\\xa8\\xda\\xc3Va\\xf3\\xb5e\\x16X\"i\\xbe\\x88]\\xe7\\x13F\\xd9J\\xcchJD\\xf3~\\xbb\\x96\\x1exac\\xc1\\xfb'\n",
            "Tiempo de ejecución (cifrado e impresion): 0.0004112720489501953\n",
            "Número de caracteres encriptados: 625\n",
            "Texto desencriptado {len(original_text)}: \n",
            "b'La Naturaleza tornaba a se\\xc3\\xb1orearse del Bosque, y huy\\xc3\\xb3 volando, La Naturaleza tornaba a se\\xc3\\xb1orearse del Bosque, y huy\\xc3\\xb3 volando La Naturaleza tornaba a se\\xc3\\xb1orearse del Bosque, y huy\\xc3\\xb3 volando, La Naturaleza tornaba a se\\xc3\\xb1orearse del Bosque, y huy\\xc3\\xb3 volando La Naturaleza tornaba a se\\xc3\\xb1orearse del Bosque, y huy\\xc3\\xb3 volando, La Naturaleza tornaba a se\\xc3\\xb1orearse del Bosque, y huy\\xc3\\xb3 volando La Naturaleza tornaba a se\\xc3\\xb1orearse del Bosque, y huy\\xc3\\xb3 volando, La Naturaleza tornaba a se\\xc3\\xb1orearse del Bosque, y huy\\xc3\\xb3 volando La Naturaleza tornaba a se\\xc3\\xb1orearse del Bosque, y huy\\xc3\\xb3 volando. La naturales es grande por que si en la vida.'\n",
            "Tiempo de ejecución (descifrado e impresion): 0.0002548694610595703\n",
            "*******************1000palabras*******************\n",
            "Tiempo de ejecución (lectura): 0.0077762603759765625\n",
            "Número de caracteres sin contar espacios: 5099\n",
            "Clave: Sixteen_byte_key\n",
            "Tiempo de ejecución (generacion key): 1.71661376953125e-05\n",
            "Texto encriptado 6270:  \n",
            "b'\\x025\\xabp\\x15\\x19_J\\xca\\x13\\xa1&\\xee[<[\"<7\\xb2(k\\xee\\xe1f\\r];\\x0c[|\\xb9\\xd4_\\xed\\xa8<1\\xbb7\\xa7\\xe7{lc!\\xaf%\\t\\x13\\xcd~\\xe0L\\x96q/\\xf0\\xd6\\x89m,1X\\xf06P\\xd0\\xc5\\xb6\\x88\\xec^\\x903\\xf1Z`\\xb8$\\x08`\\xa6\\x8af\\xbc\\xc5\\xc6\\xb0\\xf0\\n\\x8e\\x89\\x8b\\xc5\\x91U\\x13=J\\xf0:\\r\\xa3N\\xe1g5Jn\\x9c\\xbd\\x85I\\xb8\\x92\\xd2\\xc6\\x8d\\x95`\\xdc&\\x99\\x9b\\xfe\\x88\\xa7\\xc7\\n\\xc6:\\x05\\x18\\xd2+\\t\\xc8k\\xc5ut#|\\xe0\\x86a\\x0c\\x16\\xc9\\x17\\x8b?z\\xe2b\\xe5\\x88;\\x93\\x19;u\\r\\xb6\\xd6Q\\xddX!z\\x8f\\xe8\\x8d\\xd9\\x12\\xe9\\xa4S\\xe5\\xe8\\x95\\xfev\\xfe\\xcb&`\\xbd\\xa2\\xb2\\xa5w\\x82\\xf6\\x0eRAt\\xfe%Z\\xb1\\x94\\xa9/\\xb7q>\\xa9xo\\xd6&9!B\\x9f\\xfc\\xb9\\xd5;\\xc6;lT\\xfd\\x85\\x06H\\xa7\\x19\\x01\\xe0\\xc0m\\xb9\\xa5:\\x0c\\t\\xcd\\x06\\x0b\\xa1\\x7fJ\\tZ\\x11\\xd5.\\x912\\x1c\\xef\\x1b\\xc9xh\\xac\\x07\\xc6\\x87\\xa9F!\\xc2\\x0fJ\\x848\\x17&U\\xa3>\\x0cUA&\\xc5\\xb0\\xc3pZ\\x8b\\xc9\\xb5Z\\xa1s;P\\x92\\xe1\\xb8\\x94\\xcd\\x07x\\x9e\\xf5\\x1c\\xddhk\\xfbN^|\\xc9\\xc9\\x0b\\x987\\xdb\\x04\\xd9\\xa1%\\xcfW.\\x13\\xe0_\\xae\\xef\\x9ft\\xf0\\xc6\\xde-\\x18\\x827\\x00=\\x10\\x85W\\x0c}\\n\\xfe\\xf3*\\xd9L\\xc4\\xd3\\\\\\xff\\x11\\x8a_\\x04\\xe8\\x82\\xa3{\\xb8\\x87\\xc6\\xa3\\xb9\\x89\\x1c\\xf1\\x8e\\xc7\\xea\\xf7\\x99z\\xbd\\x17\\x81\\x1f\\x02{o H\\xe8\\x80e\\x86\\x9d\\xfa\\xffe!\\x92`\\x83\\xdb\\x9e\\xd3\\xd7S}\\x86\\xc4g\\xf5p\\x10\\xd4\\xe5\\x01f\\x1e7\\xfc\\xffbb}\"Z\\xf6\\xce\\xf00\\xef\\nG\\xd8\"\\xab)`G\\xc3Rj\\xbb\\xe2U\\\\\\xfd\\x88\\x04*\\xa3\\xd5;@Q:\\xad\\xe42Fk\\x90k4\\x81\\xf2\\x8a3\\\\\\xf2\\x86\\xef=\\x9c\\x07\\xdf\\x8f.\\xd0\\xf7Vo\\xe32\\x9f\\xcf\\xf5\\xcao\\xed\\xe7\\xe9HZ\\xf5\\xf18)\\xf5a\\x1da6\\xe5\\\\L^\\xf7\\xfd\\xfa\\x81<\\xcd0\\x16UD\\xe7\\xe5o\\xc2\\x82\\x8e\\x90\\xf4yC\\xd6\\x919G\\xec\\xeeP\\xa6\\xb5\\x85\\x82.Zaa\\x92\\x16\\n\\x1a\\\\\\xda\\xfe\\xf7(\\x01Z\\xa0\\x92\\xab\\x17Ku\\x81\\xeb\\xab<\\xf2\\xfb\\xab\\xfb\\xa0\\x8f\\xbd1k\\xc3?RD\\x8b\\xaf>vtO\\x9e\\xb7Hb\\xc0\\x81\\xe4*\\xa8\\x06\\x93\\xe6\\x9d\\xd6\\x0e>P*\\x12\\xd3\\xe1\\xd4Rt\\xf2\\xb7\\x0fm/\\xba]\\x87\\x0e\\xeeV:\\r\\x8e\\xb6\\xe9\\x1c&*Qt\\xd4W\\xf5\\xdd\\x98#\\xe7g\\x0bT\\x95P{\\xc7\\x08\\x18VC\\xabmOj\\xf6\\xc0\\xdf\\xa7)#j\\r\\xaf\\xe0u\\x99A\\xbcK;\\xa9T|\\xa3\\x8az\\xc5\\xc9\\x02\\'\\x13\\xa7?.\\t\\xa3\\xac/\\x18\\x9c\\x9bL\\x1a\\x17ROg\\xde\\xbe\\x89\\xd2\\xffG/\\xfb\\xdc\\n\\xd8\\xb3\\xa0R~\\xd1|\\x9e\\xe6\\xaaTcKWh\\x84\\x87\\xc4\\xe4\\x85\\xd9\\xcb\\x9f4\\xaf\\x14\\x1bu\"\"\\x8bwAJ\\xb1\\xc8Z\\x1c\\x87\\x00I\\xf4C{a\\xa3T%x\\xe6\\xb7!B;cK\\x89\\xb54\\x91\\x85\\x9cq^\\xbe\\x03+\\x0b\\x0c-e\\xe3${\\x1d\\xc7\\x15\\x81\\xca\\x1b\\x1bFJ\\xdat\\xd0%\\\\\\x8a\\xac\\x08O\\xe7\\xbf\\x18\\x18\\x145\\xfb\\x93\\xd7\\xcb\\x816\\x8a\\x1cb\\xe2\\x01\\x1a\\x9c\\x0bG\\xa5\\xe7\\xc5o~\\xa5\\x83\\xc1\\x04\\x8d\\xd4\\xf4o\\xc0\\x84.\\x9a%\\x9cI\\x1d\\x08J\\xd5\\xf4\\x8d0\\x0c\\xe7\\x16k\\xf2\\x18\\x0fF\\x8c\\x17\\x89n\\xef\\x859\\xfer\\xe6\\xbe\\x1b\\x0f\\x92/Z\\xbc\\x83\\xbc\\x9e\\rt\\xda\\xab\\xf7\\xae\\x93I\\xc70\\xed\\xfa\\xad\\xa9,\\x1d\\x1d\\xc2f\\xe8U\\xa8,za4) \\xe4Fdp\\xca\\x9a\\x9c\\xbf\\t\\xf4*\\xe4\\xfc\\xcd\\xcaU\\x9d\\xed\\n\\x07\\xc3\\xe8\\x1e\\xc0]\\xd8\\xfc\\x8c\\x10dEuOX\\x9a\\xd5Ce\\xaf\\xa8\\x12\\xb6\\x10\\x1c\\xb9\\xa4\\xa4\\x89\\xdd\\x1f\\xe7\\xa5rf-V\\x9c\\xce\\x10\\xe1\\xb8-\"\\xfe\\xabh|\\x1d\\x91\\x82\"/\\xc2\\x02=u\\xfc\\x03\\xcc\\x1a\\xdc\\x17\\xd5:\\x1e\\xa8Y\\xbd\\xb1\\xba\\x1c\\x83\\x9a\\x99M J]\\xb2E\\xbe\\x1c\\xef/\\xa4'\n",
            "Tiempo de ejecución (cifrado e impresion): 0.0007574558258056641\n",
            "Número de caracteres encriptados: 6250\n",
            "Texto desencriptado {len(original_text)}: \n",
            "b'La Naturaleza tornaba a se\\xc3\\xb1orearse del Bosque, y huy\\xc3\\xb3 volando, La Naturaleza tornaba a se\\xc3\\xb1orearse del Bosque, y huy\\xc3\\xb3 volando La Naturaleza tornaba a se\\xc3\\xb1orearse del Bosque, y huy\\xc3\\xb3 volando, La Naturaleza tornaba a se\\xc3\\xb1orearse del Bosque, y huy\\xc3\\xb3 volando La Naturaleza tornaba a se\\xc3\\xb1orearse del Bosque, y huy\\xc3\\xb3 volando, La Naturaleza tornaba a se\\xc3\\xb1orearse del Bosque, y huy\\xc3\\xb3 volando La Naturaleza tornaba a se\\xc3\\xb1orearse del Bosque, y huy\\xc3\\xb3 volando, La Naturaleza tornaba a se\\xc3\\xb1orearse del Bosque, y huy\\xc3\\xb3 volando La Naturaleza tornaba a se\\xc3\\xb1orearse del Bosque, y huy\\xc3\\xb3 volando. La naturales es grande por que si en la vida. La Naturaleza tornaba a se\\xc3\\xb1orearse del Bosque, y huy\\xc3\\xb3 volando, La Naturaleza tornaba a se\\xc3\\xb1orearse del Bosque, y huy\\xc3\\xb3 volando La Naturaleza tornaba a se\\xc3\\xb1orearse del Bosque, y huy\\xc3\\xb3 volando, La Naturaleza tornaba a se\\xc3\\xb1orearse del Bosque, y huy\\xc3\\xb3 volando La Naturaleza tornaba a se\\xc3\\xb1orearse del Bosque, y huy\\xc3\\xb3 volando, La Naturaleza tornaba a se\\xc3\\xb1orearse del Bosque, y '\n",
            "Tiempo de ejecución (descifrado e impresion): 0.0005750656127929688\n",
            "*******************10000palabras*******************\n",
            "Tiempo de ejecución (lectura): 0.004954338073730469\n",
            "Número de caracteres sin contar espacios: 51030\n",
            "Clave: Sixteen_byte_key\n",
            "Tiempo de ejecución (generacion key): 2.6702880859375e-05\n",
            "Texto encriptado 62740:  \n",
            "b'y\\xa0>x\\xd8\\xa1\\xd2\\xc9\\x8e\\nu\\x92\\x04\\xba\\xb97f\\x0cr\\xaa7-}W\\xed\\xfd\\x18\\xfe\\r\\xcc\\xe3\\x0e5\\xc0\\xf3\\xf7\\xcc\\x8b\\x05}\\xca\\x99\\xa4\\xea>\\x92x\\x0b\\xad\\x19\\xef\\xf8@4M\\xab\\x82\\xbc\\xd0\\xff>\\xf5L4\\xe0\\xdaT\\xce\\xc3+\\x83\\x08@\\x18$\\x02\\x81\\xefW\\xf3\\x88\\xeef}x\\xda\\xbd\\n\\xb5\\xf54\\xae\"\\xdf6\\x07\\x82#\\x1d\\x10\\x04\\xea=\\x87S\\xad+s$\\xbf\\xf8\\xedr\\x13\\x9eP\\xcf$\\x0e8\\x17\\xdc*\\xfd\\xad&\\x18\\xba.S\\x87\\xd28\\x1f\\xd6\\x91\\xc9\\xc6\\xe1\\x05\\t|an\\x0e\\n\\x9a\\xd2mLo\\x90\\xf46\\x8fN\\xe1\\xa2B\\xc5\\x9e\\r)\\x8dL\\x8b\\x16\\xe5\\xf1\\x11\\xa4g\\tTH\\xec\\x93\\xe9\\x1b\\x140\\x95(S\\xd3\\xcb-\\xde\\xc2R\\xea\\xc0PE\\x8fN\\xa6\\xd7\\xbe\\xe0B\\xeb\\xbf\\x90\\xed2\\x81@t\\x9a\\xb5\\x1d\\xb0T\\xb1\\xe5\\xaf5\\xbc*\\x03\\x8d\\x87\\n\\xd4Ul\\xaa\\xef\"\\x80\\xc91\\xec\\x86\\xf7\\x1e4\\xd8Z\\xdek\\x13\\xa1!\\xb4p\\x06\\n\\xe8\\xc0\\x01\\xd6\\xcd\\xe3\\xf9\\xa9\\x90\\x81\\xc4n\\x1b\\xcb\\x9d\\xfb\\xa9\\xb3\\xe9;L<\\x954\\xa9\\x17HW\\'\\n\\xfe\\x1c\\xc1\\x1c\\x8b\\xab\\x9f\\x19\\xb4\\xc0\\xa9\\t\\xc6\\xfa\\xe9\\xfdAlc\\xe0\\xab{W\\xc1&\\xad\\xdb\\xbf\\xaa\\xf9G[\\xef\\t\\xaa \\xa2\\xc06\\x01\\x8a\\xb2\\xa5\\xcbTa\\xc9\\xfb\\x17u\\x03\\xf7\\x1b\\xa7c\\xae\\x83\\x1b\\x1c\\xac\\x9b\\xfb\\xc0O\\x7f\\xf1\\xb1.\\x87\\xc6\\xactX\\xe5\\xa0a%\\xe5@g\\xf8\\xfb\\x95\\xf9\\x8d\\x17Lq\\x90\\x11T\\xd5\\x19N\\x05\\x8f\\r\\xfb\\xc0\\x92\\xc0\\xf0\\xfb\\xc4\\xb0\\x157\\xdc05g;@\\xfb\\xa3\\xad8~\\xd4o,\\x95$\\xf2\\xdd\\xda\\xf07\\xfc{\\xb6\\xefN\\n\\x1fhWvsC\\x8d\\x11\\xc5\\x02\\xe61k\\x93\\xb1<\\x80D\\xf5\\xc9hzd\\x95\\xe8\\x085\\xff7F\\xc0\\xd6\\x8d\\xec\\xdaUt#\\x90O\\x00\\x0f`\\xde\\xd2[\\xe6\\xed\\x1f\\xb5P\\x7f\\x17\\x83\\x05:@\\x0b4\\xa3\\xb4\\x9c\\xf9\\x99\\xe5\\xc3C\\x05\\x12\\xbct\\xc03(Z\\x10\\x9a\\xee\\xe0\\xa7SP\\xe5O\\xb0|\\xd8T\\xc9\\xcc\\'f\\xf3\\x0c\\'\\x16\\xe9\\xdd\\xa9~\\x02\\x1f\\xde\\xa2 \\n\\xa1\\x15\\x9f\\xe5hl\\x90\\x99\\x9bYFY\\xc8i(Mh8\\xb1\\xa00\\xff1\\x7ff\\xca\\xedk\\x06s\\xcc\\xca\\xb7\\xae7\\xf3~Z\\xc1\\n\\xa5\\'\\xef}J\\xfc7\\x83\\xd2%3&\\xea\\n\\t\\xeaF=J\\xbc\\x17\\xce\\xed]\\\\\\xad\\xf89j/\\xa3,\\xb4C\\'\\xd5\\xfa\\xbe\\xc4nI\\xec\\x10\\xa9\\x86\\xf8\\xc7\\xdf\\xe9:\\xb5\\xfa @\\x19\\xe7r.\\x0629\\xb74X\\xe2\\xd3\\xda\\xdf1\\x93\\x96\\xd9\\x80\\xe8Y\\x87\\xa0$\\xd1\\xa5\\xa7Khq\\xad0\\xab*\\xd8\\x93\\xe8\\xe2\\x7f\\xcaz\\x82\\x90\\xdaSP\\xb5\\xbf\\xc3\\xfbN5\\xc8\\n4\\xb0+Z\\x94i\\xee\\xf8G\\x08\\xa6bO?\\xa1\\x01\\x04\\xf7\\xa0\\xc6R\\x06\\xf9D\\xff\\xf9\\xa9\\xce\\xa7\\x9b\\x00h\\xf2\\xa9{r\\xe65M\\x0c\\xf3\\x02\\x16\\x17\\xf9m\\xab\\xe4\\x9cL]\\x01\\x994\\xac\\x19\\x07V\\x91S\\x08w/\\xfaTC\\xf8\\x96\\xb5:\\xd8\\xd1\\xc1\\xbb+?\\x85\\x9f\\xe1\\x11\\xa3.\\xd2\\xb6\\x9c=\\xbf\\xdd\\xa0\\x83\\x9c\\x11\\xc6\\x86\\xf5z\\xb1K\\x9b\\x1a31\\xe3\\x9a+\\xa9d\\xb1\\xdb\\x1e\\x13\\xda>\\xb3)\\xa9\\xa9\\x0ev\\x84\\x88\\xd3[\\xfb\\\\\\xfe\\xb4\\xfd\\xa5\\xff\\xbc\\x9f\\x0fF\\xcc\\xb2\\x8f*\\nJ(\\x94~\\x90~\\xbb\\x03\\xe0S\\x7f\\xe6h\\xa4A\\t\\xde\\xa7X\\x98Y\\x81+\\x08\\xa2N\\xf8\\xd3\\x1a\\x7f\\xfe\\xec\\xd0\\xdc\\xa9\\x05\\xde\\x99\\x9f\\xef\\xc9)\\xb9\\xef\\xbc\\x9c\\xec\\x96\\xf28\\x1ct\\xc1\\x80\\xc9\\x97\\x94Q\\xcdMG\\xaf\\xbf\\x82\\xa1\\x0b\\xd56Vy\\xba\\xd6\\xd5\\xb1$\\xc8\\xc6\\xb3\\xd5\\xe1<7\\x9b\\x1c\\x8e\\x18\\xeaI\\xec\\xab\\xa0\\xc8\\xda\\x02\\xa3\\xa3\\xa5h\\xb6\\xa0*\\x18A\\t\\x98:P\\xe6Sm=bAmn.\\xdc)\\xa9 TOG\\x83\\xf7\\x1fs\\x86\\xe8d\\xb5\\x00\\x94\\xe1\\xfb\\xc1^\\xffY\\xf5\\xc9}p\\xab\\xb9\\xbc\\xdb&\\'\\xb1A\\xcd\\x0b \\x03\\xa3\\xf6\\x96Ph\\xe7\\x1c6\\x93\\x1b\\xbd@\\xf1\\x1c\\x8f\\x8fc\\x8a\\x99\\x88\\x1c\\xd7*\\xfc\\x83\\x19\\x02\\xe5@4\\x89d#P1d\\x048o'\n",
            "Tiempo de ejecución (cifrado e impresion): 0.0071849822998046875\n",
            "Número de caracteres encriptados: 62484\n",
            "Texto desencriptado {len(original_text)}: \n",
            "b'La Naturaleza tornaba a se\\xc3\\xb1orearse del Bosque, y huy\\xc3\\xb3 volando, La Naturaleza tornaba a se\\xc3\\xb1orearse del Bosque, y huy\\xc3\\xb3 volando La Naturaleza tornaba a se\\xc3\\xb1orearse del Bosque, y huy\\xc3\\xb3 volando, La Naturaleza tornaba a se\\xc3\\xb1orearse del Bosque, y huy\\xc3\\xb3 volando La Naturaleza tornaba a se\\xc3\\xb1orearse del Bosque, y huy\\xc3\\xb3 volando, La Naturaleza tornaba a se\\xc3\\xb1orearse del Bosque, y huy\\xc3\\xb3 volando La Naturaleza tornaba a se\\xc3\\xb1orearse del Bosque, y huy\\xc3\\xb3 volando, La Naturaleza tornaba a se\\xc3\\xb1orearse del Bosque, y huy\\xc3\\xb3 volando La Naturaleza tornaba a se\\xc3\\xb1orearse del Bosque, y huy\\xc3\\xb3 volando. La naturales es grande por que si en la vida. La Naturaleza tornaba a se\\xc3\\xb1orearse del Bosque, y huy\\xc3\\xb3 volando, La Naturaleza tornaba a se\\xc3\\xb1orearse del Bosque, y huy\\xc3\\xb3 volando La Naturaleza tornaba a se\\xc3\\xb1orearse del Bosque, y huy\\xc3\\xb3 volando, La Naturaleza tornaba a se\\xc3\\xb1orearse del Bosque, y huy\\xc3\\xb3 volando La Naturaleza tornaba a se\\xc3\\xb1orearse del Bosque, y huy\\xc3\\xb3 volando, La Naturaleza tornaba a se\\xc3\\xb1orearse del Bosque, y '\n",
            "Tiempo de ejecución (descifrado e impresion): 0.0035851001739501953\n",
            "*******************100000palabras*******************\n",
            "Tiempo de ejecución (lectura): 0.4848649501800537\n",
            "Número de caracteres sin contar espacios: 510270\n",
            "Clave: Sixteen_byte_key\n",
            "Tiempo de ejecución (generacion key): 0.00051116943359375\n",
            "Texto encriptado 627370:  \n",
            "b'($\\xb5Y~|\\x0b\\xf6\\xb5}\\xc9\\\\\\xf4\\xa0\\xdb\\xeb\\xe4\\xcd<\\xb4\\xe6lh\\x1c\\xa7A6]\\x18\\xd9d[\\xb5\\xa7\\xc6\\x91\\x02\\xbfuw?$\\xcc\\xe68\\x95?\\x17x8\\x93\\xac\\x0e\\x05\\xa6\\x88L\\x82\\xae\\xb1%\\xd9\\x96Z\\x05\\xa0&0\\xec&\\xd8K\\xd1\\xc1\\xe5L\\x85O\\xee\\xf1\\x11\\\\\\x96\\x95yu%k\\xb97\\x8b\\xa3\\xae\\xb6\\x0e\\xa94\\x7fF@\\xc3Q^z\\xf3\\x98\\xd26{\\x0e\\x8e\\x83\\x1f2:\\xfe\\x93,\\x1c\\x1d\\xab\\xcd\\xa8\\xf8\\xcb\\xbb\\xbc\\xd3\\xc48\\x0f\\xd1\\xaf6\\x10\\x1b\\x1c\\xa5=l\\x80~Q\\xa7\\x8d\\x07z\\xaf\\xadu\\xe0g\\xfeO[\\xf2\\x95\\x90/\\xf7\\xeb2v\\xcf\\x8aH\\x8e\\x84\\x9d\\x04\\x10T\\xc9i\\xbd\\xc5\\xba\\x9ai\\x8e\\x9dxF^2m\\xe4\\x0f\\x96\\xb9\\\\\\xcd\\x1e\\x83\\xca\\x92<\\xf1`\\x80\\x92=S4\\xc3\\xf0\\xbcU\\xb0\\x03\\x99\\x96~\\xd2\\xab/L\\x0e\\x0cn,\\xc3\\x05z\\x0ct.Y\\x9an\\x00\\xd6\\x10\\xeee\\xfe\\xed@k\\xbbi\\x8aC\\xca`\\xf8\\xa1$\\xc2\\x9f]\\x14F\\xf0\\x89\\xf4\\x1b\\xc5\\xa9\\x88\\x02q\\xbb4\\xedT\\xadi\\xc1v\\xa0\\xf0d\\xb2\\xbaP\\xb1\\x0cG.\\x85\\xf0\\xaf(y-_aC\\x9a\\x90\\xdf\\x03\\xa1\\x81-\\xeb\\x82\\xab2! \\xbd[\\xb0\\x80\\xa90\\x8a\\xf5\\xf2\\xe7\\x8a\\xdbc\\'h1[\\x8c\\xeb-\\xde\\xb0\\xe8[_3\\xb2\\x08{\\x0eG\\xd7G\\x7fe\\r\\x06O\\x0cs\\xcc\\xed\\x83\\x05\\xed\\x93\\x12\\x00[(;:>\\xe5\\xb9\\x10\\x83|\\xc9\\xe0Es\\xaa\\x00\\x14\\xbf\\xbe&j\\xf4\\xc4S-\\xda `w\\x8c\\xd1!r\\x87N9[#3\\x07\\xbf\\x99\\xdb\\xe9\\r\\xdd[\\xd2&\\x9b|\\x8e\\x99/\\xd8>\\x1f\\x96DX\\xdf\\xb4\\xd68\\xe6\\x95n\\x9e\\xda\\x0b^\\xd5,\\xb2:x;\\xc2D-\\xcaH\\'\\xf1Oz\\x0f\"\\x01#mw\\x13\\xbb\\xa8\\xacM\\xb8\\xda\\x8b\\x03\\xa1\\xdeA\\x87\\x86\\x9a\\x89:S-\\x17\\xe2[G\\x0c\\x0b\\xb7\\xaa4\\xc1\\xcb\\xa3\\x7f\\x85\\x08B\\x82\\xb2\\xa2QG(\\xc8\\x07\\x84\\xae*\\xb0\"\\x99\\x82f?\\xbb\\xc1\\xae\\xf9\\xa1\\xa5\\x1a\\xfcr\\xc0\\xf8/\\xc3\\xb6\\x91s^\\xea\\xe5i\\x18z\\xe4\\xc4\\xe8/P\\xd7\\xc8\\xee\\x97B\\x0e\\xb3Q\\x96\\xacZ\\x85\\xe1\\xc8\\xa7\\n\\xb5\\xb0E\\xce\\xee\\xd4\\x1b\\xcc\\xb7\\xc7\\xb8\\t\\xeeA\\x937r\\xbd*Q\\x1e\\xffWb \\xddD{Id\\xe5\\x1e\\xdb;\\xce\\xc7\\x1f;\\xa02\\xa8R\\xe3\\xfc\\xa8\\x9aK\\xc5|{\\x9b\\xa9\\x07\\xa8\\xe7\\xc5\\x1c\\xda\\xd7?\\xb2\\x8cs\\xc0\\xcf5Z|jy\\xd2\\xa9\\x82\\xfc\\xa5\\xae\\xa4$R\\x8a^\\x18\\xe9O\\x184\\xcf\\x17\\xf6\\xa9\\xc2\\xe42f\\xe1*\\x06M\\xd8\\x1e\\x8e\\xeb\\xf5\\t\\x15\\xff\\x10\\xa5\\x9a\\xdf\\x03B\\xa5\\xed\\xf1%\\x13[\\xa6\\xecY\\x98\\xb1u\\x8b\\xcb\\x1f\\xd6\\x85\\x91b\\x8b\\t\\xf5)\\xf8\\xd2gKFX\\'\\xa0\\xa6\\xcc\\xceq\\xe6\\xaf\\x1d5u\\xca\\xd8\\x07\\x98L\\x99uS\\xa3\\x05\\x08\\xcdqh\\xb0\\x15n\\x12\\xfa\\x1al\\xe5\\x9c\\x91\\xc0=\\xeb\\xb3\\xa7\\xbe\\xfa\\xc7\\xe0\\xc2O\\xa2\\xbf\\xd2b_\\xfb\\x9bX\\xe1\\xfe\\xbf\\xbb|9xv\\xa2\\xc2\\xa7\\x07U8\\xe7\\xe0\\xedG\\xa6\\x89\\xa8\\x14\\xde\\xc8\\xa4\\xafHC\\xae\\x17H#P\\xddci\\x04Xm\\xecc(\\x9a\\xd5\\x7f\\xe0\\xed3\\xaf\\x83\\'X\\x04`\\x05\\xd7\\xe8o\\xd6H\\x1e\\xed?O\\xfern\\xec\\xc4\\xea\\x06\\xbbE7+\\xde\\xac\\xe9J\\xdf\\x8c\\x80\\xa1\\xdcR\\xc9^w\\x88s\\xe5\\xb9`\\xe6!\\x1a\\x1cn\\xf15z\\xa7\\x9dl\\x06b\\xfdQ\\x9c\\x8du\\x1d8@\\x8a\\xed\\xca1\\xdeg-ki\\x86\\xd0Lw\\xfd\\x95\\x99\\xcb\\xb5i\\xa2\\xb9ix[\\x15\\x80\\xf3\\x90\\x88\\x8b\\xc0\\x90\\xdda\\xcd.\\xc7B_bEx\\x80\\x0e\\xb6\\xed\\xd9D\\x00\\xca\\xb5\\xce\\xa7{G\\xd4\\np\\x99\\x15\\xf3I\\x95>IIIMvYP\\xf0\\x85\\xdd>\\xc0\\x10\\x13_\\x8c\\xad\\xfc\\x18K8\\xbf\\xe1\\xa7\\x18Z\\x98t\\xc7pQ\\x17\\xb7n\\xd3,\\xb0\\x01\\xce\\xa71]\\x97]:\\x1a\\xf7+D\\xcf\\xc5\\xd6\\xae\\x12\\x19\\x06N\\xa79\\xbf\\x92\\x91\\xb5\\x0b(\\xa7\\\\\\x86:\\x08\\xfd\\xc0\\x1f +\\xa6\\xdcT\\x10k.\\xdbl&\\x97=\\xae7\\xfe;'\n",
            "Tiempo de ejecución (cifrado e impresion): 0.04934430122375488\n",
            "Número de caracteres encriptados: 624884\n",
            "Texto desencriptado {len(original_text)}: \n",
            "b'La Naturaleza tornaba a se\\xc3\\xb1orearse del Bosque, y huy\\xc3\\xb3 volando, La Naturaleza tornaba a se\\xc3\\xb1orearse del Bosque, y huy\\xc3\\xb3 volando La Naturaleza tornaba a se\\xc3\\xb1orearse del Bosque, y huy\\xc3\\xb3 volando, La Naturaleza tornaba a se\\xc3\\xb1orearse del Bosque, y huy\\xc3\\xb3 volando La Naturaleza tornaba a se\\xc3\\xb1orearse del Bosque, y huy\\xc3\\xb3 volando, La Naturaleza tornaba a se\\xc3\\xb1orearse del Bosque, y huy\\xc3\\xb3 volando La Naturaleza tornaba a se\\xc3\\xb1orearse del Bosque, y huy\\xc3\\xb3 volando, La Naturaleza tornaba a se\\xc3\\xb1orearse del Bosque, y huy\\xc3\\xb3 volando La Naturaleza tornaba a se\\xc3\\xb1orearse del Bosque, y huy\\xc3\\xb3 volando. La naturales es grande por que si en la vida. La Naturaleza tornaba a se\\xc3\\xb1orearse del Bosque, y huy\\xc3\\xb3 volando, La Naturaleza tornaba a se\\xc3\\xb1orearse del Bosque, y huy\\xc3\\xb3 volando La Naturaleza tornaba a se\\xc3\\xb1orearse del Bosque, y huy\\xc3\\xb3 volando, La Naturaleza tornaba a se\\xc3\\xb1orearse del Bosque, y huy\\xc3\\xb3 volando La Naturaleza tornaba a se\\xc3\\xb1orearse del Bosque, y huy\\xc3\\xb3 volando, La Naturaleza tornaba a se\\xc3\\xb1orearse del Bosque, y '\n",
            "Tiempo de ejecución (descifrado e impresion): 0.06702637672424316\n",
            "*******************1000000palabras*******************\n",
            "Tiempo de ejecución (lectura): 0.07513046264648438\n",
            "Número de caracteres sin contar espacios: 4630571\n",
            "Clave: Sixteen_byte_key\n",
            "Tiempo de ejecución (generacion key): 0.0019698143005371094\n",
            "Texto encriptado 5927161:  \n",
            "b'A%\\xeaXa\\xb2\\xf3\\x00+\\x8a;T\\xb1\\x8b\\xaa\\x17K\\xa7\\x15~\\x1dG\\x91\\xe1\\x03\\xcf\\xbf\\x18\\x16\\xc0z\\x9d/\\xe1\\xbc\\x9f\\xa4\\x99~1\\x97O\\xf2B\\x81\\xfcl\\x91\\xe8\\xe4OB\\xfb\\xd3\\xe3\\xf7_\\x01\\xa2s\\xc2\\x91\\x0e?V\\x97\\x1c\\xf9\\xd3P0\\xa4\\xc9\\xfa\\x90\\xcd\\xcb\\x02fs8\\xdaG9\\xb8\\xa1x\\x85\\xaf\\xe7\\xeb\\x05E\\xd7\\x19aJg#Jc@\\xd4\\x90\\x16c\\xd7\\x80y\\xc1\\xfc{\\x91\\xedK\\x01D\\x85e\\xf8|N\\xe3=\\x0c\\x02-j\\x9f\\x13D\\x87\\xe5V\\xcfq\\xed\\x80\\xad\\xc5s3\\xee\\x9b\\xf9\\xe3\\xa9h\\x08\\x9b0\\xdd\\xb7Vk\\xb8[t@T\\xa1\\xfc&\\xc3\\xda7O4Z\\x94\\x83\\xe8\\xf7\\x9fiM\\xfc\\xde\\xb7\\x82\\xe9.o\\xc7\\x80\\xd7,FP&\\xe1Z\\xa7eL\\x17\\x97t\\xff\\xe3\\xf4_Rh\\xfe6\\x19\\x01\\xf9!\\xd6\\xbct\\r|]\\xaa\\xe2\\x8aex\\x99\\xaf\\x88e\\x9c\\x8e5\\xb6\\xa5\\xdfF\\x17z\\xaa\\x05\\xd8\\xef\\x1dZ|\\x0c\\'dm\\xc3O\\xa2d\\x97\\xb7M\\xa3\\xb2\\x7fC\\xfb\\x9b5\\'%G\\x1b\\xa4a\\xfad\\xeeq\\rq\\x0f\\x8d7\\xd3\\xed\\x83J\\xe8;\\xa7\\xf4p\\xb9\\xb2n\\x0b:Jn\\xa0c\\xbfd\\x8a\\x03a\\x96\\xd9\\xb3\\xd3Y\\xb4\\x8b\\xff\\xb4\\x86k\\xac\\xda2Xq\"\\xac\\t\\x05\\xa7b\\xca\\xe9\\x01:2\\x12L\\x91\\xae\\xe8\\x8aJ\\xc1\\xdf\\x7f\\xb4\\xbc1\\xb5\\xda\\x06\\xb2\\r,\\x0b\\xb3\"\\xa0p\\x9cwN\\x95\\xcdJ6\\xcd\\xf8\\xfa\\x15\\xe8\\xaa\\xb3-\\x9bCuq\\x88\\x9d\\xbc{X\\xe2\\xbd\\xb3\\xdc\\x1e\\xce\\xf5 \\x88\\xb8\\xf5\\x80\\xe0u\\xfarcW(\\xf1\\xcd4D\\x85\\xd5\\xc3]z?\\xc4\\xa4-\\xbf\\xdf\\xeb7\\x04:l\\xafP\\xc9V\\xc1\\xc5\\xea\\xb4\\x90\\xeb\\xff\\x96\\x0e\\x81jM@\\x9b\\x10\\xc8\\x06$_\\x07\\x92\\\\$n\\xc3\\x87\\x94`\\xed\\xba\\xa9\\xaf#\\xd9\\x0c\\xbb/7x\\x17t\\xc4\\xb4f\\xf5a#?\\x99\\t\\xd1\\x87\\xe8\\x802o\\xb3mYC\\xcd%\\x12\\xa4\\xac1\\xf0d\\x1e)\\xcf\\x84\\xacX@\\x83\\xfc\\xb4e+\\xd7O\\xf7\\xe2l\\xb3\\xafI\\xa4\\x0bP]F\\x15\\xa9s\\x82X\\xaa\\xeeb\\xd8j\\x8a\\xfaOne\\xd3\\xae\\x9eX\\x1eI\\xf5u\\n\\xa3*(\\x80\\xb1\\x84\\xbb\\xfc\\xb8B\\'\\x19b\"\\x01\\x1f\\xc3%7\\xa3\\x87\\x10\\x11\\x11\\xffcz\\xf02({\\x1f\\x08\\xed\\x8a\\t\\xcd\\xbd\\xb9D1*\\x1e\\xf1\\x08oj\\x9c\\x1e\\x8d\\xd9\\t\\x8c\\x80t\\xe7\\x98C\\xa9e\\xa9\\x8c\\xfe\\x1f\\xad\\x9b\\xc5[pV\\x0c)\\xab\\xa3\\t%#W\\x84\\'_c\\xaa\\x9d\\xe8y\\xed\\xde\\xc9\\xf4K\\xb9J`\\x00\\xffu\\x951\\xe4\\x81\\xcb>\\xa9c}v8S\\xe8P\\xcbx\\\\\\xaf\\xaf\\x8eiW\\xc1\\x02\\xd8\\x0bH&J\\xa2\\x97rB\\xc0nt\\x91\\x10\\xf3\\xc4P:B}\\xeet3;\\xb9Ji&\\xbf\\n\\x83\\x01V\\x86?\\x9a\\xd4\\xf8\\xbd\\x95\\xee\\xae\\xd1\\xea_\\xe0\\x8f\\x06\\x01\\xb7\\xdc\\x14J\\x06=\\x05\\xd1RV\\xb5`jX\\xdc\\xd4\\xa8.W\\xd9\\xf52>3\\xc6yf\\xc7\\xb7R\\x18\\xb9\\xdb\\xb0\\n\\xa1\\x19\\xe3\\x141\\xaaF\\xe8\\x1bM\\x83\\xc1\\x84\\xff\\xb6a6|\\x1e\\xd3\\xef\\xcf.\\x0c\\xb5\\x8ehK\\xd5\\x11\\xbb\\xfe\\xceM\\xb9\\xaf\\xaf\\x1a\\xa0\\xf0\\x0f\\xf5\\\\\\xdcZ\\xf4\\xb1\\xbd\\xd3\\xc4\\x05\\x9e\\xfc\\x7f\\x18\\xecn\\x0f\\x06^H\\xbf#j\\xff|]\\xe4M\\nC\\x832\\xeb\\xb9\\xb5\\xc9\\xe8\\xe2\\x11x\\x97Q+\\xee\\xb7\\x10E\\x1b\\xbdG\\xd3\\x07\\xcd\\xe4*R\\xca:\\x1f\\x13)J\\x01\\xd8\\xc5\\xd6\\xbb\\xc6qF.\\x11\\xef\\xf0\\x98\\xb4\\x18\\xf4KH\\xc7\\x80(TG\\r+\\xbb\\xa7\\x0e\\x18\\xf7\\xc5A\\xc3\\xa16\\x0b\\x8f\\xa2\\xb2\\xa3\\xb4Q\\'\\xf5\\xf2v|$\\xa7Ds\\xd1\\xe9lF86\\x04<7<\\x92\\xa29\\x17\\x1b\\xe4\\x16\\xfbU=\\x0c{\\x8d\\xc70\\n\\x98U\\xd7O\\x84\\xa1h\\x072\\xdd\\x8f\\xb2gA%\\xfc\\x92|\\x9d`\\x993\\x80\\xe0\\xd6\\xb5\\xe6\\xb1\\xe9\\x04\\xf8\\x97\\xc1\\xbc\\x18Jr\\xb1c\\xe7O\\'B\\xac\\xfa\\xdd\\x10$\\xca8_\\xaaE%h\\x9f\\x02ZX7#\\xd9\\xc1\\x00\\xd3\\xfcoI4\\xaf$\\xff\\x164\\x99\\x90\\x11\\xe3\\xd9\\x1d8\\xbc\\xde'\n",
            "Tiempo de ejecución (cifrado e impresion): 0.29148149490356445\n",
            "Número de caracteres encriptados: 5903830\n",
            "Texto desencriptado {len(original_text)}: \n",
            "b'S\\xc3\\xad, en Combray, s\\xc3\\xad; pero en Par\\xc3\\xads tiene m\\xc3\\xa1s cosas que hacer, y yo tambi\\xc3\\xa9n. Pero te aseguro que no parec\\xc3\\xada ni en lo m\\xc3\\xa1s m\\xc3\\xadnimo que estuvi\\xc3\\xa9ramos enfadados. Hemos estado hablando un momento, mientras \\xc3\\xa9l esperaba que le trajeran su paquete. Me ha preguntado por ti, me ha dicho que jugabas con su hija .a\\xc3\\xb1adi\\xc3\\xb3 mi madre, maravill\\xc3\\xa1ndome ante aquel prodigio de ver que yo exist\\xc3\\xada en la mente de Swann,  y  de  modo  tan  completo,  que  cuando  yo  temblaba  de amor delante de \\xc3\\xa9l, en los Campos El\\xc3\\xadseos, sab\\xc3\\xada mi nombre, qui\\xc3\\xa9n era mi madre, y pod\\xc3\\xada amalgamar a mi calidad de camarada de su hija  detalles  relativos  a  mis  abuelos  y  a  su  familia,  al  sitio  donde viv\\xc3\\xadamos, particularidades de nuestra vida de anta\\xc3\\xb1o que quiz\\xc3\\xa1 yo no  conoc\\xc3\\xada.  Pero  mi  madre  parec\\xc3\\xada  que  no  hab\\xc3\\xada  encontrado  un encanto  especial  a  esa  secci\\xc3\\xb3n  de  .Los  Tres  Barrios.,  donde  se apareci\\xc3\\xb3 a los ojos de Swann como una persona definida, que le recordaba cosas de otro tiempo comu'\n",
            "Tiempo de ejecución (descifrado e impresion): 0.289386510848999\n",
            "*******************10000000palabras*******************\n",
            "Tiempo de ejecución (lectura): 0.40659403800964355\n",
            "Número de caracteres sin contar espacios: 46305710\n",
            "Clave: Sixteen_byte_key\n",
            "Tiempo de ejecución (generacion key): 0.00044655799865722656\n",
            "Texto encriptado 59271610:  \n",
            "b'\\'\\xa1\\x97\\xc1\\xde\\x9e]8\\x9cq\\x1a\\x82H\\x039\\x8e\\x10XF\\xcbp\\x9a\\xd8-a\\xb9a\\x0c)W\\xfe\\xe5\\x1b(J\\xc7\\xaf\\xa3\\xfd\\xab\\x1bVG[\\xae_$\\x8cM\\x96\\xed\\x16`\\xf25\\xbd\\xe1\\xb3t\\xbc\\xf7\\xadx\\x00\\xedv\\xe7\\xd1\\xf4y\\xad\\x1a\\x15\\x9e\\xcc\\x17\\xac\\xe5\\xfc\\xa1\\xba\\x13\\xffj\\x86|\\xa8\\xa0\\xb6\\x04\\x98\\xcd$\\x9d\\xd3y4P\\xef\\xf6E\\x10\\xd4\\xbb&?\\xa11\\x9b\\xbd\\xa4\\x89\\xd9!\\xc8\\xfd\\x1d#\\xfa\\xa9ar\\xc1\\xa2\\xe6\\xe0\\xf1`#\\xd1s\\x17\\xf5g\\xdei\\xd8\\x16:\\x05\\xfb\\xd5\\x17\\xbe\\x0c\\xab\\xd4\\x7f\\x80Z\\xe5\\x9e\\x03\\xf8Pdm\\xf8&\\xa9\\x0b4k\\x97h\\xc9\\x0e\\x80\\xf5U\\xf0~0g\\x84\\x88\\xc9\\x9d\\x9a\\xa2\\xa6\\xe9\\xb7\\xb0>\\xf3t\\x8e\\xe8\\xd9\\xb5\\x1a\\x8f\\x16S \\x1b\\x82\\x06\\xf4RP\\xdb\\xf9N\\xd5Y8`\\x95\\xaf\\xc2\\x12\\xca\\xebF\\x0f\\x8e\\x7f1\\xbbE\\xa5\\'\\x9b\\x85[=pD\\x92\\xb6\\x8f+6\\xe9\\x07\\xae\\x85n\\xa6\\x85\\xact\\x90\\xe4\\xcc\\n-\\xc5\\x97\\xf4G\\x93`\\xf4\\x11\\xea\\xdd\\x19j\\xa6\\xa3\\xf7N\\x95Aa\\xccc\\xf5i\\xef\\x03\\xdf\\x93+\\x1c\\x13\\x8a\\xbf5\\x06\\rHm\\x99)\\xde\\xe7\\xba\\xc9)[\\xdaE\\xe7m\\xae\\xec\\x02@&\\x88\\xe4\\xf1g\\xe6\\xaf\\x9d\\xcf\\x10\\xb4\\xb9\\xfe\\x83\\x81V\\xcfT%\\xb2\\xb1\\xb0\\xa7\\xf5\\x7f\\xccw\\xc0\\xb0\\xc4\\xbf28\\xa6\\x19]\\x89>\\xce\\xe0fK\\xb19\\x12\\xbf\\xd17\\xcf#`\\xd2\\xec\\nE\\xa8\\xfcx\\x0e\\xe1\\x9b[\\xac&\\xc1\\x82\\xe5I\\xf43\\xe3\\xf4\\x9e\\x15\\xc6\\x8c\\xb7\\xad\\x96\\x9e)\\xdf\\xff\\xbeB\\x1cK\\x9b\\x16\\x91\\x1ad,\\x9b\\xc6\\xbe4dF\"\\xc28\\xd0u\\x98\\xf7\\xfb\\x9c\\x9f\\x06\\xad\\x07l\\xfb\\x18\\xaa\\xd4\\x1dE\\xd1;\\x00\\x9c\\xd8\\r\\xc9\\x87WJ\\x83\\xc90\\x13\\xf4\\x0cD\\x98\\x14\\x05]F\\xd3\\xf3\\xac\\x15p\\xd7SW$\\xa8EN\\x06<\\x82\\x9e/\\xdaq\\x99\\x8e4\\xe2\\xfc4Wa\\xda8%\\xec;;\\xc1sI\\xc2\\x13\\xd9%\\xe0p\\\\ry&T\"\\x8b\\x8b>\\x8a\\xe8IPx\\xa1\\xf2\\xcb\\xeb\\x08\\x11\\\\\\x972Y\\xb8a\\x9bd]\\xa1\\xbb:\\x0f\\xb4\\xcf9u0g*\\x1c\\x91\\x11\\x94!2\\xec\\x10\\xa5\\xa0b\\x1e\\xef$\\xd3\\xdb\\x19\\xcd\\x15\\xab\\xe7\\xd0\\xd1{\\xcb\\xac\\xf8G\\xca\\xc4mlq\\x14\\xa1\\xe3\\x17)^\\xb7\\xc4\\xacB\\xf2\\x80:\\xf9\\xd1\\xae\\xaf\\xb4\\xb8\\xcfa\\xa8\\xa2]p\\xfb\\x9cHt\\xfc\\xb1\\xb1)\\x186\\x89\\\\\\xf4\\x886\\x19,\\x89G9\\x04\\x85\\'v\\x04\\x8f\\x92w8\\xde\\x86\\x8e\\x82^=\\x19AN\\xde\\x95K\\xff\\xdb\\xb0\\x9eG/lY\\xda5\\xda\\x0b \\xf1\\xc1\\x92\\xa4\\xb4\\xd8#\\x9e\\x05c_P%\\x996{tQj:e\\xed\\xf8]\\x91\\x00\\xfbw\\xd0\\xab`\\x99w\\x8a\\xe3;\\xd6B\\xe4M\\x9f\\xec$\\x1chP\\x1b \\xb0\\xcf&\\n\\xe8\\xe4\\xdb\\x0b[E\\xeb4\\xad\\xff\\xa7\\x8e^\\x9e\\x07h\\xfbBI\\xcc\\xa1\\x15\\xaf\\xcb+\\xae\\xb5~d\\xd8\\x1a\\xf5\\xc0\\xc0\\x94\\x81\\xdb5\\x88\\xdd\\xf3!\\xb4\\x91M\\xe9\\xaf\\x96\\xdc\\x1c_\\xdarc\\x8bK\\r\\xe7\\xb1\\xfd}\\x8e\\xe3\\xa3O\\xa3:\\xa5\\x16\\xdf\\xc9\\x7f\\xb82]\\xf6T\\x03_M\\xe9S)6\\xec\\x17\\x07\\'\\xb8\\xa5 [\\x14\\xe9x\\xc3{1\\xeb\\xd2q\\x119\\xd45\\x1a\\xea%-h\\xdez zam\\x91\\xa7\\xe2\\x16\\x9e\\x12\\x03\\xbc\\xab4E/\\xab\\x82K\"\\xf33L\\x81@\\x0f\\n\\x17\\xc5\\xa4\\xca\\xc6\\xd2\\xd4(\\x1b\\xf7\\x03\\x13\\xdfq\\x95\\x0e\\x03U\\xd2x$\\xbf%\\x14\\t+\\xeb~>!\\xa0\"\\x9b\\r\\xc1\\xa9\\x15g\\xe2^\\xe3H\\xa9\\x85\\x94vU\\xe6m{\\xf1L\\xb4\\t\\x98cT:\\xe1\\x85\\x10\\x17 \\x7f\\x13\"\\xc7\\x85A\\xff\\xd6ot\\xe0Yi\\xed\\xab\\x08\\xb9\\xb8_\\'\\xfe\\x95z\\x1dFUD\\xbc\\x1d\\x81\\x07\\xc4]\\xd7\\x8b\\x05\\xf0\\x12\\x7f\\xbc\\xac\\x1b\\xb6 \\x0cFe\\r@\\xc7D1\\x03W\\x87[{!]\\x9f\\xb42`\\x91\\x9e\\xed\\xbf\\xe9\\x7f\\x9e\\x0c_^\\\\\"r\\xee\\xf5o=*\\x9c\\x84\\xa7\\xcf\\xbd\\x9c\\xba\\x19~\\xac\\xc8\\x07\\xedN\\x83\\x81\\xfbycz\\xe0{c\\xe6\\'\\xc5u\\xc9'\n",
            "Tiempo de ejecución (cifrado e impresion): 2.898092746734619\n",
            "Número de caracteres encriptados: 59040496\n",
            "Texto desencriptado {len(original_text)}: \n",
            "b'S\\xc3\\xad, en Combray, s\\xc3\\xad; pero en Par\\xc3\\xads tiene m\\xc3\\xa1s cosas que hacer, y yo tambi\\xc3\\xa9n. Pero te aseguro que no parec\\xc3\\xada ni en lo m\\xc3\\xa1s m\\xc3\\xadnimo que estuvi\\xc3\\xa9ramos enfadados. Hemos estado hablando un momento, mientras \\xc3\\xa9l esperaba que le trajeran su paquete. Me ha preguntado por ti, me ha dicho que jugabas con su hija .a\\xc3\\xb1adi\\xc3\\xb3 mi madre, maravill\\xc3\\xa1ndome ante aquel prodigio de ver que yo exist\\xc3\\xada en la mente de Swann,  y  de  modo  tan  completo,  que  cuando  yo  temblaba  de amor delante de \\xc3\\xa9l, en los Campos El\\xc3\\xadseos, sab\\xc3\\xada mi nombre, qui\\xc3\\xa9n era mi madre, y pod\\xc3\\xada amalgamar a mi calidad de camarada de su hija  detalles  relativos  a  mis  abuelos  y  a  su  familia,  al  sitio  donde viv\\xc3\\xadamos, particularidades de nuestra vida de anta\\xc3\\xb1o que quiz\\xc3\\xa1 yo no  conoc\\xc3\\xada.  Pero  mi  madre  parec\\xc3\\xada  que  no  hab\\xc3\\xada  encontrado  un encanto  especial  a  esa  secci\\xc3\\xb3n  de  .Los  Tres  Barrios.,  donde  se apareci\\xc3\\xb3 a los ojos de Swann como una persona definida, que le recordaba cosas de otro tiempo comu'\n",
            "Tiempo de ejecución (descifrado e impresion): 2.7788920402526855\n"
          ]
        }
      ]
    },
    {
      "cell_type": "code",
      "source": [
        "import time\n",
        "import base64\n",
        "\n",
        "from google.colab import drive\n",
        "drive.mount('/content/drive/')\n",
        "\n",
        "\n",
        "def ejecutar_PBKDF2(direccion):\n",
        "  inicio = time.time()\n",
        "  with open(direccion, 'r') as archivo:\n",
        "        plaintext = archivo.read()\n",
        "  fin = time.time()\n",
        "  print(f\"Tiempo de ejecución (lectura): {fin-inicio}\");\n",
        "\n",
        "  # Elimina los espacios del texto\n",
        "  plaintext_sin_espacios = plaintext.replace(\" \", \"\")\n",
        "\n",
        "  numero_de_caracteres = len(plaintext_sin_espacios)\n",
        "  print(f\"Número de caracteres sin contar espacios: {numero_de_caracteres}\")\n",
        "\n",
        "  inicio = time.time()\n",
        "  salt = os.urandom(16)  # Genera un salt aleatorio de 16 bytes\n",
        "  iteraciones = 100000  # Número de iteraciones\n",
        "  longitud_clave = 32  # Longitud de la clave derivada en bytes\n",
        "  fin = time.time()\n",
        "  print(f\"Tiempo de ejecución (generacion cadena de salto y longitud): {fin-inicio}\");\n",
        "\n",
        "  inicio = time.time()\n",
        "\n",
        "  clave_derivada = PBKDF2(plaintext, salt, dkLen=longitud_clave, count=iteraciones)\n",
        "  clave_derivada_hex = binascii.hexlify(clave_derivada).decode()\n",
        "  print(f\"Clave derivada (hex): {clave_derivada_hex[:1000]}\")\n",
        "  fin = time.time()\n",
        "  print(f\"Tiempo de ejecución (hash e impresion): {fin-inicio}\");\n",
        "  numero_de_caracteres_hash = len(clave_derivada)\n",
        "  print(f\"Número de caracteres encriptados: {numero_de_caracteres_hash}\")\n",
        "\n",
        ""
      ],
      "metadata": {
        "colab": {
          "base_uri": "https://localhost:8080/"
        },
        "id": "o1q1L8FP0RsG",
        "outputId": "7c2ce064-70aa-42aa-df21-523f396ffc00"
      },
      "execution_count": 34,
      "outputs": [
        {
          "output_type": "stream",
          "name": "stdout",
          "text": [
            "Drive already mounted at /content/drive/; to attempt to forcibly remount, call drive.mount(\"/content/drive/\", force_remount=True).\n"
          ]
        }
      ]
    },
    {
      "cell_type": "code",
      "source": [
        "print(\"*******************10palabras*******************\");\n",
        "ejecutar_PBKDF2('/content/drive/MyDrive/Colab Notebooks/Cripto/txt/10palabras.txt')\n",
        "print(\"*******************100palabras*******************\");\n",
        "ejecutar_PBKDF2('/content/drive/MyDrive/Colab Notebooks/Cripto/txt/100palabras.txt')\n",
        "print(\"*******************1000palabras*******************\");\n",
        "ejecutar_PBKDF2('/content/drive/MyDrive/Colab Notebooks/Cripto/txt/1000palabras.txt')\n",
        "print(\"*******************10000palabras*******************\");\n",
        "ejecutar_PBKDF2('/content/drive/MyDrive/Colab Notebooks/Cripto/txt/10000palabras.txt')\n",
        "print(\"*******************100000palabras*******************\");\n",
        "ejecutar_PBKDF2('/content/drive/MyDrive/Colab Notebooks/Cripto/txt/100000palabras.txt')\n",
        "print(\"*******************1000000palabras*******************\");\n",
        "ejecutar_PBKDF2('/content/drive/MyDrive/Colab Notebooks/Cripto/txt/1000000palabras.txt')\n",
        "print(\"*******************10000000palabras*******************\");\n",
        "ejecutar_PBKDF2('/content/drive/MyDrive/Colab Notebooks/Cripto/txt/10000000palabras.txt')"
      ],
      "metadata": {
        "colab": {
          "base_uri": "https://localhost:8080/"
        },
        "id": "FNafnhy27N9F",
        "outputId": "1e349c54-c97c-4b10-d458-c88a51915db6"
      },
      "execution_count": 35,
      "outputs": [
        {
          "output_type": "stream",
          "name": "stdout",
          "text": [
            "*******************10palabras*******************\n",
            "Tiempo de ejecución (lectura): 0.0042574405670166016\n",
            "Número de caracteres sin contar espacios: 52\n",
            "Tiempo de ejecución (generacion cadena de salto t longitud): 0.0013501644134521484\n",
            "Clave derivada (hex): b2b15d76493aaf45b4e8bbeb403a36127934e9378268aab51f0937adae43be94\n",
            "Tiempo de ejecución (hash e impresion): 0.07937455177307129\n",
            "Número de caracteres encriptados: 32\n",
            "*******************100palabras*******************\n",
            "Tiempo de ejecución (lectura): 0.0033712387084960938\n",
            "Número de caracteres sin contar espacios: 509\n",
            "Tiempo de ejecución (generacion cadena de salto t longitud): 5.9604644775390625e-06\n",
            "Clave derivada (hex): f9c7739d5e92a3b5a15fe447dd131209acfcf365a50c5af9dd7bc6d71eea02ca\n",
            "Tiempo de ejecución (hash e impresion): 0.08042669296264648\n",
            "Número de caracteres encriptados: 32\n",
            "*******************1000palabras*******************\n",
            "Tiempo de ejecución (lectura): 0.0026061534881591797\n",
            "Número de caracteres sin contar espacios: 5099\n",
            "Tiempo de ejecución (generacion cadena de salto t longitud): 1.8835067749023438e-05\n",
            "Clave derivada (hex): 85d1362ad36294ce89e404bfaa8673cba709859b9f04141c270b7f18fbeb35a9\n",
            "Tiempo de ejecución (hash e impresion): 0.08478832244873047\n",
            "Número de caracteres encriptados: 32\n",
            "*******************10000palabras*******************\n",
            "Tiempo de ejecución (lectura): 0.003679990768432617\n",
            "Número de caracteres sin contar espacios: 51030\n",
            "Tiempo de ejecución (generacion cadena de salto t longitud): 9.5367431640625e-06\n",
            "Clave derivada (hex): e85579f04b219c2352732b0a85797df7fa9dfb2bfa1e8b1688b0db8d989791c5\n",
            "Tiempo de ejecución (hash e impresion): 0.07959747314453125\n",
            "Número de caracteres encriptados: 32\n",
            "*******************100000palabras*******************\n",
            "Tiempo de ejecución (lectura): 0.006733417510986328\n",
            "Número de caracteres sin contar espacios: 510270\n",
            "Tiempo de ejecución (generacion cadena de salto t longitud): 1.0967254638671875e-05\n",
            "Clave derivada (hex): 5958d9819dd9e21b24c09dfde790bf9c3f7441e139a78ba7bac64c5f16694be8\n",
            "Tiempo de ejecución (hash e impresion): 0.08482956886291504\n",
            "Número de caracteres encriptados: 32\n",
            "*******************1000000palabras*******************\n",
            "Tiempo de ejecución (lectura): 0.048998355865478516\n",
            "Número de caracteres sin contar espacios: 4630571\n",
            "Tiempo de ejecución (generacion cadena de salto t longitud): 6.4373016357421875e-06\n",
            "Clave derivada (hex): 3111113c8761d4af3b9c41d37fef7cabe7f7a9a4b678537c23373f2ce4e16499\n",
            "Tiempo de ejecución (hash e impresion): 0.12785649299621582\n",
            "Número de caracteres encriptados: 32\n",
            "*******************10000000palabras*******************\n",
            "Tiempo de ejecución (lectura): 0.41195082664489746\n",
            "Número de caracteres sin contar espacios: 46305710\n",
            "Tiempo de ejecución (generacion cadena de salto t longitud): 7.867813110351562e-06\n",
            "Clave derivada (hex): b5f6d9042412890f31d4391b791476fff756443ae388d4e9d17356deb28743ad\n",
            "Tiempo de ejecución (hash e impresion): 0.47981905937194824\n",
            "Número de caracteres encriptados: 32\n"
          ]
        }
      ]
    },
    {
      "cell_type": "markdown",
      "source": [
        "--------------------------------------------Ignorar de acá para abajo --------------------------------------------"
      ],
      "metadata": {
        "id": "Qqoh1w-c9ruK"
      }
    },
    {
      "cell_type": "code",
      "source": [
        "import hashlib\n",
        "import binascii\n",
        "import os\n",
        "from Crypto.Protocol.KDF import PBKDF2\n",
        "\n",
        "#PBKDF2 convertir contraseñas, que a menudo son débiles y\n",
        "#vulnerables a ataques, en claves derivadas más seguras y resistentes\n",
        "\n",
        "# Texto a transformar\n",
        "texto = \"hola_mundo\"\n",
        "\n",
        "# Aplicar SHA-3 para obtener el hash del texto\n",
        "\n",
        "#hash_sha3 = hashlib.sha3_256(texto.encode()).digest()# calcula y obtiene en forma de bytes\n",
        "#print(hash_sha3)\n",
        "\n",
        "# Parámetros para PBKDF2 (funcion de derivacion de clave KDF)\n",
        "salt = os.urandom(16)  # Genera un salt aleatorio de 16 bytes\n",
        "iteraciones = 100000  # Número de iteraciones\n",
        "longitud_clave = 32  # Longitud de la clave derivada en bytes\n",
        "\n",
        "# Derivar la clave utilizando PBKDF2\n",
        "clave_derivada = PBKDF2(texto, salt, dkLen=longitud_clave, count=iteraciones)\n",
        "\n",
        "# Imprimir la clave derivada en formato hexadecimal\n",
        "print(f\"Clave derivada (hex): {binascii.hexlify(clave_derivada).decode()}\")\n",
        "\n"
      ],
      "metadata": {
        "colab": {
          "base_uri": "https://localhost:8080/"
        },
        "id": "uwUPObOKuHt1",
        "outputId": "1a7aa71e-ddff-40e4-b2d4-1d875b3e7831"
      },
      "execution_count": 31,
      "outputs": [
        {
          "output_type": "stream",
          "name": "stdout",
          "text": [
            "Clave derivada (hex): ea52e24b1540d9185d1f07f22b531253caf34797defdc16cf447b8d5a22e7f6f\n"
          ]
        }
      ]
    },
    {
      "cell_type": "markdown",
      "source": [
        "hask para pbkdf2\n",
        "*   SHA-1: 'sha1'\n",
        "*   SHA-224: 'sha224'\n",
        "*   SHA-256: 'sha256'\n",
        "*   SHA-384: 'sha384'\n",
        "*   SHA-512: 'sha512'\n",
        "*   SHA-3-224: 'sha3_224'\n",
        "*   SHA-3-256: 'sha3_256'\n",
        "*   SHA-3-384: 'sha3_384'\n",
        "*   SHA-3-512: 'sha3_512'\n",
        "*   BLAKE2b: 'blake2b'\n",
        "*   Elemento de lista\n",
        "*   BLAKE2s: 'blake2s\n",
        "\n",
        "\n",
        "\n",
        "\n"
      ],
      "metadata": {
        "id": "muupapt7zQUu"
      }
    },
    {
      "cell_type": "code",
      "source": [
        "import hashlib\n",
        "import os\n",
        "\n",
        "#función de derivación de clave basada en contraseña PBKDF2 con\n",
        "# HMAC (Hash-Based Message Authentication Code): Usa un funcion hash con una clave secreta\n",
        "#para calcular un MAC (Codigo de autenticacion de mensajes).\n",
        "#verifica la integridad de los datos y la autenticidad del mensaje.\n",
        "# CMAC: Código de Autenticación de Mensajes basado en Cifrado.\n",
        "#GMAC: Código de Autenticación de Mensajes basado en Galois.\n",
        "#UMAC: Código de Autenticación de Mensajes Universal, que es rápido pero menos seguro que HMAC.\n",
        "\n",
        "# Parámetros para la función pbkdf2_hmac\n",
        "hash_name = 'sha3_256'  # Algoritmo hash a utilizar\n",
        "\n",
        "password = b'mi_contrasena_secreta'  # Contraseña como bytes\n",
        "salt = os.urandom(16)  # Genera un salt aleatorio de 16 bytes, proteccion para ataques de diccionario y\n",
        "#rainbow tables, es una para cada contrasenia.\n",
        "#se concatena con la contraseña antes de aplicar la función hash\n",
        "print(salt)\n",
        "\n",
        "iterations = 100000  # Número de iteraciones\n",
        "dklen = 32  # Longitud de la clave derivada en bytes, en caso de no especificar se la longitud del agoritmo hash.\n",
        "\n",
        "# Genera la clave derivada\n",
        "clave_derivada = hashlib.pbkdf2_hmac(hash_name, password, salt, iterations, dklen)\n",
        "\n",
        "# Imprime la clave derivada en formato hexadecimal\n",
        "print(f\"Clave derivada (hex): {clave_derivada.hex()}\")"
      ],
      "metadata": {
        "colab": {
          "base_uri": "https://localhost:8080/"
        },
        "id": "W6GwDBQ9wPvy",
        "outputId": "d7f12b67-5c8c-46f9-f876-8425ed6a2838"
      },
      "execution_count": 30,
      "outputs": [
        {
          "output_type": "stream",
          "name": "stdout",
          "text": [
            "b'}\\xc7P8_b\\xb2g1T5\\x05\\r8\\x83T'\n",
            "Clave derivada (hex): a94298c9ac12b57403183fa911875fa58b34ac4b236e55f2377bc66bd4a23ad5\n"
          ]
        }
      ]
    },
    {
      "cell_type": "markdown",
      "source": [
        "Este es otra alternativa"
      ],
      "metadata": {
        "id": "lGqB_-Yp0GEl"
      }
    }
  ]
}